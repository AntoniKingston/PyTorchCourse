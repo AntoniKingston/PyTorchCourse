{
  "nbformat": 4,
  "nbformat_minor": 0,
  "metadata": {
    "colab": {
      "provenance": [],
      "gpuType": "T4",
      "authorship_tag": "ABX9TyNKB3f3maPzIuR9RGrec5id",
      "include_colab_link": true
    },
    "kernelspec": {
      "name": "python3",
      "display_name": "Python 3"
    },
    "language_info": {
      "name": "python"
    },
    "accelerator": "GPU"
  },
  "cells": [
    {
      "cell_type": "markdown",
      "metadata": {
        "id": "view-in-github",
        "colab_type": "text"
      },
      "source": [
        "<a href=\"https://colab.research.google.com/github/AntoniKingston/PyTorchCourse/blob/main/Chapter-0-excersises\" target=\"_parent\"><img src=\"https://colab.research.google.com/assets/colab-badge.svg\" alt=\"Open In Colab\"/></a>"
      ]
    },
    {
      "cell_type": "code",
      "execution_count": 1,
      "metadata": {
        "id": "7Kqm6_U5O6Hv"
      },
      "outputs": [],
      "source": [
        "import torch\n",
        "import numpy as np"
      ]
    },
    {
      "cell_type": "markdown",
      "source": [
        "Excersise 1."
      ],
      "metadata": {
        "id": "24eR-5NVPMmE"
      }
    },
    {
      "cell_type": "code",
      "source": [
        "shape = (7,7)\n",
        "rand_tensor = torch.rand(shape)\n",
        "print(rand_tensor)"
      ],
      "metadata": {
        "colab": {
          "base_uri": "https://localhost:8080/"
        },
        "id": "0Gd9KjzDPItn",
        "outputId": "690631ad-1743-443f-d375-8c353067f953"
      },
      "execution_count": 2,
      "outputs": [
        {
          "output_type": "stream",
          "name": "stdout",
          "text": [
            "tensor([[0.8150, 0.3824, 0.3365, 0.0322, 0.9155, 0.6375, 0.5169],\n",
            "        [0.9222, 0.8831, 0.4435, 0.9938, 0.0218, 0.0496, 0.2862],\n",
            "        [0.0579, 0.5131, 0.1225, 0.7343, 0.1057, 0.8998, 0.4752],\n",
            "        [0.5607, 0.4645, 0.1375, 0.5389, 0.5677, 0.3263, 0.3756],\n",
            "        [0.1204, 0.8307, 0.4494, 0.8998, 0.0131, 0.6234, 0.7840],\n",
            "        [0.2912, 0.6589, 0.3399, 0.7591, 0.3501, 0.3750, 0.4060],\n",
            "        [0.2928, 0.5100, 0.5779, 0.2524, 0.2945, 0.7526, 0.2659]])\n"
          ]
        }
      ]
    },
    {
      "cell_type": "code",
      "source": [
        "shape = (7,7,)\n",
        "rand_tensor = torch.rand(shape)\n",
        "print(rand_tensor)"
      ],
      "metadata": {
        "colab": {
          "base_uri": "https://localhost:8080/"
        },
        "id": "RXeR-YHNPS9p",
        "outputId": "ff8a32f6-8c89-44f1-ebf5-25fc131aecd5"
      },
      "execution_count": 3,
      "outputs": [
        {
          "output_type": "stream",
          "name": "stdout",
          "text": [
            "tensor([[0.9565, 0.7876, 0.1903, 0.6472, 0.4699, 0.4036, 0.6421],\n",
            "        [0.5849, 0.0562, 0.8971, 0.2337, 0.3035, 0.6581, 0.3883],\n",
            "        [0.7604, 0.4382, 0.7166, 0.5356, 0.5645, 0.4113, 0.1033],\n",
            "        [0.6619, 0.6454, 0.6813, 0.3172, 0.1742, 0.1954, 0.7353],\n",
            "        [0.1624, 0.1709, 0.5688, 0.4694, 0.5039, 0.6322, 0.5977],\n",
            "        [0.7800, 0.2488, 0.6709, 0.0277, 0.4456, 0.7130, 0.3243],\n",
            "        [0.8637, 0.9171, 0.9514, 0.6207, 0.2589, 0.1812, 0.3114]])\n"
          ]
        }
      ]
    },
    {
      "cell_type": "markdown",
      "source": [
        "Ex. 2"
      ],
      "metadata": {
        "id": "G0rgHJNbP1YD"
      }
    },
    {
      "cell_type": "code",
      "source": [
        "shape2 = (1,7)\n",
        "rand_tensor2 = torch.rand(shape2)\n",
        "rand_tensor2 = rand_tensor2.T\n",
        "result = torch.matmul(rand_tensor, rand_tensor2)\n",
        "print(result)"
      ],
      "metadata": {
        "colab": {
          "base_uri": "https://localhost:8080/"
        },
        "id": "L9O4kzPpPWL8",
        "outputId": "3d721ce5-8002-482e-c0ac-d192ab710011"
      },
      "execution_count": 4,
      "outputs": [
        {
          "output_type": "stream",
          "name": "stdout",
          "text": [
            "tensor([[1.7655],\n",
            "        [1.6268],\n",
            "        [1.5735],\n",
            "        [1.7290],\n",
            "        [1.4087],\n",
            "        [1.5810],\n",
            "        [1.9579]])\n"
          ]
        }
      ]
    },
    {
      "cell_type": "markdown",
      "source": [
        "Ex. 3."
      ],
      "metadata": {
        "id": "JS8A8v6NQuNk"
      }
    },
    {
      "cell_type": "code",
      "source": [
        "torch.manual_seed(0)\n",
        "shape = (7,7)\n",
        "rand_tensor = torch.rand(shape)\n",
        "print(rand_tensor)\n",
        "shape2 = (1,7)\n",
        "rand_tensor2 = torch.rand(shape2)\n",
        "rand_tensor2 = rand_tensor2.T\n",
        "result = torch.matmul(rand_tensor, rand_tensor2)\n",
        "print(result)\n"
      ],
      "metadata": {
        "colab": {
          "base_uri": "https://localhost:8080/"
        },
        "id": "hdxcN5PLQEmM",
        "outputId": "0acccd04-a423-4189-8245-456a4fb49e1d"
      },
      "execution_count": 5,
      "outputs": [
        {
          "output_type": "stream",
          "name": "stdout",
          "text": [
            "tensor([[0.4963, 0.7682, 0.0885, 0.1320, 0.3074, 0.6341, 0.4901],\n",
            "        [0.8964, 0.4556, 0.6323, 0.3489, 0.4017, 0.0223, 0.1689],\n",
            "        [0.2939, 0.5185, 0.6977, 0.8000, 0.1610, 0.2823, 0.6816],\n",
            "        [0.9152, 0.3971, 0.8742, 0.4194, 0.5529, 0.9527, 0.0362],\n",
            "        [0.1852, 0.3734, 0.3051, 0.9320, 0.1759, 0.2698, 0.1507],\n",
            "        [0.0317, 0.2081, 0.9298, 0.7231, 0.7423, 0.5263, 0.2437],\n",
            "        [0.5846, 0.0332, 0.1387, 0.2422, 0.8155, 0.7932, 0.2783]])\n",
            "tensor([[1.8542],\n",
            "        [1.9611],\n",
            "        [2.2884],\n",
            "        [3.0481],\n",
            "        [1.7067],\n",
            "        [2.5290],\n",
            "        [1.7989]])\n"
          ]
        }
      ]
    },
    {
      "cell_type": "markdown",
      "source": [
        "Ex. 4."
      ],
      "metadata": {
        "id": "4ZZFNl9DRMMC"
      }
    },
    {
      "cell_type": "code",
      "source": [
        "torch.cuda.manual_seed(1234)"
      ],
      "metadata": {
        "id": "izwiDXcCQ7An"
      },
      "execution_count": 6,
      "outputs": []
    },
    {
      "cell_type": "markdown",
      "source": [
        "Ex. 5,6"
      ],
      "metadata": {
        "id": "Ovf_vrUvReWJ"
      }
    },
    {
      "cell_type": "code",
      "source": [
        "torch.manual_seed(1234)\n",
        "tensor1 = torch.rand((2,3))\n",
        "tensor2 = torch.rand((2,3))\n",
        "tensor1.to('cuda')\n",
        "tensor2.to('cuda')\n",
        "tensor2 = tensor2.T\n",
        "result = torch.matmul(tensor1, tensor2)\n",
        "print(result)"
      ],
      "metadata": {
        "colab": {
          "base_uri": "https://localhost:8080/"
        },
        "id": "fKCc7A0mRdXm",
        "outputId": "e7117326-8cc3-4317-a748-2a6e0b0313d7"
      },
      "execution_count": 8,
      "outputs": [
        {
          "output_type": "stream",
          "name": "stdout",
          "text": [
            "tensor([[0.3647, 0.4709],\n",
            "        [0.5184, 0.5617]])\n"
          ]
        }
      ]
    },
    {
      "cell_type": "markdown",
      "source": [
        "Ex. 7."
      ],
      "metadata": {
        "id": "UKVu13coSSPN"
      }
    },
    {
      "cell_type": "code",
      "source": [
        "maks = torch.max(result)\n",
        "print(maks)\n",
        "mini = torch.min(result)\n",
        "print(mini)"
      ],
      "metadata": {
        "colab": {
          "base_uri": "https://localhost:8080/"
        },
        "id": "m0K0AxFySHM1",
        "outputId": "9b39b4e1-da77-4043-fbc1-3718d54da168"
      },
      "execution_count": 9,
      "outputs": [
        {
          "output_type": "stream",
          "name": "stdout",
          "text": [
            "tensor(0.5617)\n",
            "tensor(0.3647)\n"
          ]
        }
      ]
    },
    {
      "cell_type": "markdown",
      "source": [
        "Ex. 8."
      ],
      "metadata": {
        "id": "mSqyklUBSdi0"
      }
    },
    {
      "cell_type": "code",
      "source": [
        "armaks = torch.argmax(result)\n",
        "print(armaks)\n",
        "armini = torch.argmin(result)\n",
        "print(armini)\n"
      ],
      "metadata": {
        "colab": {
          "base_uri": "https://localhost:8080/"
        },
        "id": "l26InGVxSZsI",
        "outputId": "f38f81e0-550b-4c13-cdd0-4565a07a2c71"
      },
      "execution_count": 10,
      "outputs": [
        {
          "output_type": "stream",
          "name": "stdout",
          "text": [
            "tensor(3)\n",
            "tensor(0)\n"
          ]
        }
      ]
    },
    {
      "cell_type": "markdown",
      "source": [
        "Ex. 9."
      ],
      "metadata": {
        "id": "vW1Ds_rQSnWv"
      }
    },
    {
      "cell_type": "code",
      "source": [
        "torch.manual_seed(7)\n",
        "tensor1 = torch.rand((1,1,1,10))\n",
        "print(tensor1)\n",
        "print(tensor1.shape)\n",
        "tensor2 = torch.squeeze(tensor1)\n",
        "print(tensor2)\n",
        "print(tensor2.shape)"
      ],
      "metadata": {
        "colab": {
          "base_uri": "https://localhost:8080/"
        },
        "id": "-h0fBiBVSicY",
        "outputId": "9c8541b3-7bd3-4ff8-dd26-ac306e41c3a4"
      },
      "execution_count": 11,
      "outputs": [
        {
          "output_type": "stream",
          "name": "stdout",
          "text": [
            "tensor([[[[0.5349, 0.1988, 0.6592, 0.6569, 0.2328, 0.4251, 0.2071, 0.6297,\n",
            "           0.3653, 0.8513]]]])\n",
            "torch.Size([1, 1, 1, 10])\n",
            "tensor([0.5349, 0.1988, 0.6592, 0.6569, 0.2328, 0.4251, 0.2071, 0.6297, 0.3653,\n",
            "        0.8513])\n",
            "torch.Size([10])\n"
          ]
        }
      ]
    },
    {
      "cell_type": "code",
      "source": [],
      "metadata": {
        "id": "DgFFUKgiTFP9"
      },
      "execution_count": null,
      "outputs": []
    }
  ]
}
