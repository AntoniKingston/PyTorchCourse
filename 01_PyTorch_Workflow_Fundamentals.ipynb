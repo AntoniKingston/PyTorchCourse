{
  "nbformat": 4,
  "nbformat_minor": 0,
  "metadata": {
    "colab": {
      "provenance": [],
      "authorship_tag": "ABX9TyO9U+CO2RRLyvxOD6PZivVV",
      "include_colab_link": true
    },
    "kernelspec": {
      "name": "python3",
      "display_name": "Python 3"
    },
    "language_info": {
      "name": "python"
    }
  },
  "cells": [
    {
      "cell_type": "markdown",
      "metadata": {
        "id": "view-in-github",
        "colab_type": "text"
      },
      "source": [
        "<a href=\"https://colab.research.google.com/github/AntoniKingston/PyTorchCourse/blob/main/01_PyTorch_Workflow_Fundamentals.ipynb\" target=\"_parent\"><img src=\"https://colab.research.google.com/assets/colab-badge.svg\" alt=\"Open In Colab\"/></a>"
      ]
    },
    {
      "cell_type": "code",
      "source": [
        "import torch\n",
        "import numpy as np\n",
        "import matplotlib.pyplot as plt"
      ],
      "metadata": {
        "id": "k0kKcD2Nym8-"
      },
      "execution_count": 2,
      "outputs": []
    },
    {
      "cell_type": "markdown",
      "source": [
        "# 1."
      ],
      "metadata": {
        "id": "fOkugB1KyMT7"
      }
    },
    {
      "cell_type": "markdown",
      "source": [
        "## a)"
      ],
      "metadata": {
        "id": "3AnNUeShyVKt"
      }
    },
    {
      "cell_type": "code",
      "execution_count": 6,
      "metadata": {
        "id": "Xqy8AMpmx_iy"
      },
      "outputs": [],
      "source": [
        "weight = 0.3\n",
        "bias = 0.9\n",
        "X = torch.linspace(0,10, 101)\n",
        "y = weight * X + bias\n",
        "split = 0.7 * len(X)\n"
      ]
    },
    {
      "cell_type": "markdown",
      "source": [
        "## b)"
      ],
      "metadata": {
        "id": "l6uOLlKEzdE0"
      }
    },
    {
      "cell_type": "code",
      "source": [
        "X_train = X[:int(split)]\n",
        "y_train = y[:int(split)]\n",
        "X_test = X[int(split):]\n",
        "y_test = y[int(split):]"
      ],
      "metadata": {
        "id": "bSRuVi8NzfRz"
      },
      "execution_count": 7,
      "outputs": []
    },
    {
      "cell_type": "markdown",
      "source": [
        "## c)"
      ],
      "metadata": {
        "id": "7feChFHizhbe"
      }
    },
    {
      "cell_type": "code",
      "source": [
        "plt.plot(X_train, y_train, '-', label = \"train\")\n",
        "\n",
        "plt.plot(X_test, y_test, '-', label = \"test\")\n",
        "plt.title(\"Train and test data\")\n",
        "\n",
        "plt.legend(loc = \"upper left\")\n",
        "plt.show()"
      ],
      "metadata": {
        "colab": {
          "base_uri": "https://localhost:8080/",
          "height": 452
        },
        "id": "3YH7j40PzkhM",
        "outputId": "ed33faec-53c0-4e7d-d9e5-f5f3d0b32c91"
      },
      "execution_count": 11,
      "outputs": [
        {
          "output_type": "display_data",
          "data": {
            "text/plain": [
              "<Figure size 640x480 with 1 Axes>"
            ],
            "image/png": "[encoded data removed]"
          },
          "metadata": {}
        }
      ]
    },
    {
      "cell_type": "markdown",
      "source": [],
      "metadata": {
        "id": "rUk3Izm4yKVL"
      }
    },
    {
      "cell_type": "markdown",
      "source": [
        "# 2."
      ],
      "metadata": {
        "id": "J3_S8C7P0PMU"
      }
    },
    {
      "cell_type": "markdown",
      "source": [
        "## a) b)"
      ],
      "metadata": {
        "id": "5Kz02OsX0RoV"
      }
    },
    {
      "cell_type": "code",
      "source": [
        "class MyModel(torch.nn.Module):\n",
        "    def __init__(self):\n",
        "        super(MyModel, self).__init__()\n",
        "        self.weight = torch.nn.Parameter(torch.rand(1), requires_grad = True)\n",
        "        self.bias = torch.nn.Parameter(torch.rand(1), requires_grad = True)\n",
        "\n",
        "    def forward(self, x):\n",
        "        return self.weight * x + self.bias\n"
      ],
      "metadata": {
        "id": "LgGne0PS0QuD"
      },
      "execution_count": 13,
      "outputs": []
    },
    {
      "cell_type": "markdown",
      "source": [
        "## c)"
      ],
      "metadata": {
        "id": "fuM-glYP1S6v"
      }
    },
    {
      "cell_type": "code",
      "source": [
        "mymodel = MyModel()\n",
        "print(mymodel.state_dict())"
      ],
      "metadata": {
        "colab": {
          "base_uri": "https://localhost:8080/"
        },
        "id": "hORR6MCH1MrK",
        "outputId": "f58be2a1-1400-4867-81e3-91f8b35d9f00"
      },
      "execution_count": 14,
      "outputs": [
        {
          "output_type": "stream",
          "name": "stdout",
          "text": [
            "OrderedDict([('weight', tensor([0.0651])), ('bias', tensor([0.1887]))])\n"
          ]
        }
      ]
    },
    {
      "cell_type": "markdown",
      "source": [
        "# 3."
      ],
      "metadata": {
        "id": "uFzXi_wO1gZi"
      }
    },
    {
      "cell_type": "markdown",
      "source": [
        "## a)"
      ],
      "metadata": {
        "id": "zkghg1QL1ic_"
      }
    },
    {
      "cell_type": "code",
      "source": [
        "loss_function = torch.nn.L1Loss()\n",
        "optimizer = torch.optim.SGD(mymodel.parameters(), lr = 0.01)"
      ],
      "metadata": {
        "id": "x-M9OJs21eVN"
      },
      "execution_count": 15,
      "outputs": []
    },
    {
      "cell_type": "markdown",
      "source": [
        "## b) c)"
      ],
      "metadata": {
        "id": "7Ub7u9XG2CiG"
      }
    },
    {
      "cell_type": "code",
      "source": [
        "epochs = [i+1 for i in range(300)]\n",
        "loss = loss_function(mymodel(X_train), y_train)\n",
        "print(f\"Epoch: 0, Loss: {loss.item()}\")\n",
        "for epoch in epochs:\n",
        "    optimizer.zero_grad()\n",
        "    y_pred = mymodel(X_train)\n",
        "    loss = loss_function(y_pred, y_train)\n",
        "    if epoch % 20 == 0:\n",
        "        print(f\"Epoch: {epoch}, Loss: {loss.item()}\")\n",
        "    loss.backward()\n",
        "    optimizer.step()"
      ],
      "metadata": {
        "colab": {
          "base_uri": "https://localhost:8080/"
        },
        "id": "6CFhRo9z1_oC",
        "outputId": "7b783bbb-30e5-4fc1-f873-9191db3285bd"
      },
      "execution_count": 16,
      "outputs": [
        {
          "output_type": "stream",
          "name": "stdout",
          "text": [
            "Epoch: 0, Loss: 1.5215790271759033\n",
            "Epoch: 20, Loss: 0.23948465287685394\n",
            "Epoch: 40, Loss: 0.20587635040283203\n",
            "Epoch: 60, Loss: 0.17226795852184296\n",
            "Epoch: 80, Loss: 0.13865958154201508\n",
            "Epoch: 100, Loss: 0.10505387932062149\n",
            "Epoch: 120, Loss: 0.0714559257030487\n",
            "Epoch: 140, Loss: 0.04965905845165253\n",
            "Epoch: 160, Loss: 0.0759836733341217\n",
            "Epoch: 180, Loss: 0.07620099186897278\n",
            "Epoch: 200, Loss: 0.09428197145462036\n",
            "Epoch: 220, Loss: 0.09850102663040161\n",
            "Epoch: 240, Loss: 0.09961506724357605\n",
            "Epoch: 260, Loss: 0.09961506724357605\n",
            "Epoch: 280, Loss: 0.09961506724357605\n",
            "Epoch: 300, Loss: 0.09961506724357605\n"
          ]
        }
      ]
    },
    {
      "cell_type": "markdown",
      "source": [
        "# 4."
      ],
      "metadata": {
        "id": "IsSr_Ntv3Kn5"
      }
    },
    {
      "cell_type": "code",
      "source": [
        "y_train_pred = mymodel(X_train).detach().numpy()\n",
        "y_test_pred = mymodel(X_test).detach().numpy()\n",
        "\n",
        "plt.plot(X_train, y_train, '-', label = \"train data\")\n",
        "plt.plot(X_test, y_test, '-', label = \"test data\")\n",
        "plt.plot(X_train, y_train_pred, 'o', label = \"train prediction\")\n",
        "plt.plot(X_test, y_test_pred, 'o', label = \"test prediction\")\n",
        "plt.title(\"Train and test data and prediction\")\n",
        "\n",
        "plt.legend(loc = \"upper left\")\n",
        "plt.show()"
      ],
      "metadata": {
        "colab": {
          "base_uri": "https://localhost:8080/",
          "height": 452
        },
        "id": "CSoky13h2-aO",
        "outputId": "7874b967-b02d-428a-8ce6-7ad9bdaa02d2"
      },
      "execution_count": 23,
      "outputs": [
        {
          "output_type": "display_data",
          "data": {
            "text/plain": [
              "<Figure size 640x480 with 1 Axes>"
            ],
            "image/png": "[encoded data removed]"
          },
          "metadata": {}
        }
      ]
    },
    {
      "cell_type": "markdown",
      "source": [
        "# 5."
      ],
      "metadata": {
        "id": "ysDBFxth38cc"
      }
    },
    {
      "cell_type": "code",
      "source": [
        "myModel2 = MyModel()\n",
        "myModel2.load_state_dict(mymodel.state_dict())\n",
        "y_train_pred_2 = myModel2(X_train).detach().numpy()\n",
        "y_test_pred_2 = myModel2(X_test).detach().numpy()\n",
        "print(np.sum((y_train_pred - y_train_pred_2)**2))\n",
        "print(np.sum((y_test_pred - y_test_pred_2)**2))"
      ],
      "metadata": {
        "colab": {
          "base_uri": "https://localhost:8080/"
        },
        "id": "wW6OSczd3hQV",
        "outputId": "99c5e8e0-38c5-4446-8b0a-dce3dfe08300"
      },
      "execution_count": 25,
      "outputs": [
        {
          "output_type": "stream",
          "name": "stdout",
          "text": [
            "0.0\n",
            "0.0\n"
          ]
        }
      ]
    },
    {
      "cell_type": "code",
      "source": [],
      "metadata": {
        "id": "KPQYXTNg4UVi"
      },
      "execution_count": null,
      "outputs": []
    }
  ]
}